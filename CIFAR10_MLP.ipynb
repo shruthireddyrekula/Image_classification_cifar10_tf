{
  "nbformat": 4,
  "nbformat_minor": 0,
  "metadata": {
    "colab": {
      "provenance": [],
      "gpuType": "T4",
      "cell_execution_strategy": "setup",
      "authorship_tag": "ABX9TyN/PWXDhR/kxS8eRvX85j/0",
      "include_colab_link": true
    },
    "kernelspec": {
      "name": "python3",
      "display_name": "Python 3"
    },
    "language_info": {
      "name": "python"
    },
    "accelerator": "GPU"
  },
  "cells": [
    {
      "cell_type": "markdown",
      "metadata": {
        "id": "view-in-github",
        "colab_type": "text"
      },
      "source": [
        "<a href=\"https://colab.research.google.com/github/shruthireddyrekula/Image_classification_cifar10_tf/blob/main/CIFAR10_MLP.ipynb\" target=\"_parent\"><img src=\"https://colab.research.google.com/assets/colab-badge.svg\" alt=\"Open In Colab\"/></a>"
      ]
    },
    {
      "cell_type": "code",
      "execution_count": null,
      "metadata": {
        "id": "mz7DxUtZjow_"
      },
      "outputs": [],
      "source": [
        "import tensorflow as tf\n",
        "from tensorflow.keras.layers import Flatten, Dense,Conv2D,MaxPooling2D,Dropout\n",
        "from tensorflow.keras.models import Sequential\n",
        "from tensorflow.keras.datasets import cifar10"
      ]
    },
    {
      "cell_type": "code",
      "source": [
        "(x_train,y_train),(x_test,y_test) = cifar10.load_data()"
      ],
      "metadata": {
        "id": "lqHphfKhxf_E",
        "colab": {
          "base_uri": "https://localhost:8080/"
        },
        "outputId": "d8808bbb-c4b6-49db-8ce5-8a22996399fd"
      },
      "execution_count": null,
      "outputs": [
        {
          "output_type": "stream",
          "name": "stdout",
          "text": [
            "Downloading data from https://www.cs.toronto.edu/~kriz/cifar-10-python.tar.gz\n",
            "170498071/170498071 [==============================] - 5s 0us/step\n"
          ]
        }
      ]
    },
    {
      "cell_type": "code",
      "source": [
        "x_train.shape\n"
      ],
      "metadata": {
        "colab": {
          "base_uri": "https://localhost:8080/"
        },
        "id": "q4Ywlkuyx0sA",
        "outputId": "13778ff2-d6ac-460c-b733-0414aa4362c9"
      },
      "execution_count": null,
      "outputs": [
        {
          "output_type": "execute_result",
          "data": {
            "text/plain": [
              "(50000, 32, 32, 3)"
            ]
          },
          "metadata": {},
          "execution_count": 5
        }
      ]
    },
    {
      "cell_type": "code",
      "source": [
        "x_test.shape"
      ],
      "metadata": {
        "colab": {
          "base_uri": "https://localhost:8080/"
        },
        "id": "Zi_uEzfix5lH",
        "outputId": "4031b7c6-3f5a-4e83-959e-978784ecdc6f"
      },
      "execution_count": null,
      "outputs": [
        {
          "output_type": "execute_result",
          "data": {
            "text/plain": [
              "(10000, 32, 32, 3)"
            ]
          },
          "metadata": {},
          "execution_count": 6
        }
      ]
    },
    {
      "cell_type": "code",
      "source": [
        "x_train = x_train/255\n",
        "x_test = x_test/255\n",
        "\n",
        "# Flatten the images (reshape to a 1D array) for the MLP input\n",
        "x_train = x_train.reshape(x_train.shape[0], -1)\n",
        "x_test = x_test.reshape(x_test.shape[0], -1)\n",
        "\n",
        "y_train = tf.keras.utils.to_categorical(y_train, num_classes=10)\n",
        "y_test = tf.keras.utils.to_categorical(y_test, num_classes=10)"
      ],
      "metadata": {
        "id": "UzUeM2ylx7u3"
      },
      "execution_count": null,
      "outputs": []
    },
    {
      "cell_type": "code",
      "source": [
        "\n",
        "model = tf.keras.Sequential([\n",
        "   Dense(512, activation='relu', input_shape=(x_train.shape[1],)),\n",
        "   Dropout(0.2),\n",
        "   Dense(256, activation='relu'),\n",
        "   Dropout(0.2),\n",
        "   Dense(10, activation='softmax')\n",
        "])\n",
        "\n",
        "model.summary()\n"
      ],
      "metadata": {
        "id": "KSlr8NaAyHHO",
        "colab": {
          "base_uri": "https://localhost:8080/"
        },
        "outputId": "51747568-220a-4a16-dfc8-9fe9453286b9"
      },
      "execution_count": null,
      "outputs": [
        {
          "output_type": "stream",
          "name": "stdout",
          "text": [
            "Model: \"sequential\"\n",
            "_________________________________________________________________\n",
            " Layer (type)                Output Shape              Param #   \n",
            "=================================================================\n",
            " dense (Dense)               (None, 512)               1573376   \n",
            "                                                                 \n",
            " dropout (Dropout)           (None, 512)               0         \n",
            "                                                                 \n",
            " dense_1 (Dense)             (None, 256)               131328    \n",
            "                                                                 \n",
            " dropout_1 (Dropout)         (None, 256)               0         \n",
            "                                                                 \n",
            " dense_2 (Dense)             (None, 10)                2570      \n",
            "                                                                 \n",
            "=================================================================\n",
            "Total params: 1,707,274\n",
            "Trainable params: 1,707,274\n",
            "Non-trainable params: 0\n",
            "_________________________________________________________________\n"
          ]
        }
      ]
    },
    {
      "cell_type": "code",
      "source": [
        "model.compile(loss='categorical_crossentropy',\n",
        "              optimizer='adam',\n",
        "              metrics=['accuracy'])\n",
        "\n",
        "history = model.fit(x_train, y_train,\n",
        "                    batch_size=128,\n",
        "                    epochs=100,\n",
        "                    validation_data=(x_test, y_test))"
      ],
      "metadata": {
        "colab": {
          "base_uri": "https://localhost:8080/"
        },
        "id": "9b1NaE-Zy3PH",
        "outputId": "324e8d81-1dab-4bfe-c50e-3176c8d36ec7"
      },
      "execution_count": null,
      "outputs": [
        {
          "output_type": "stream",
          "name": "stdout",
          "text": [
            "Epoch 1/100\n",
            "391/391 [==============================] - 18s 43ms/step - loss: 1.9928 - accuracy: 0.2765 - val_loss: 1.7954 - val_accuracy: 0.3584\n",
            "Epoch 2/100\n",
            "391/391 [==============================] - 18s 47ms/step - loss: 1.8100 - accuracy: 0.3460 - val_loss: 1.7054 - val_accuracy: 0.3877\n",
            "Epoch 3/100\n",
            "391/391 [==============================] - 16s 40ms/step - loss: 1.7504 - accuracy: 0.3676 - val_loss: 1.6291 - val_accuracy: 0.4255\n",
            "Epoch 4/100\n",
            "391/391 [==============================] - 17s 42ms/step - loss: 1.7054 - accuracy: 0.3862 - val_loss: 1.6167 - val_accuracy: 0.4208\n",
            "Epoch 5/100\n",
            "391/391 [==============================] - 16s 41ms/step - loss: 1.6888 - accuracy: 0.3886 - val_loss: 1.5853 - val_accuracy: 0.4386\n",
            "Epoch 6/100\n",
            "391/391 [==============================] - 17s 44ms/step - loss: 1.6537 - accuracy: 0.4051 - val_loss: 1.5771 - val_accuracy: 0.4400\n",
            "Epoch 7/100\n",
            "391/391 [==============================] - 16s 40ms/step - loss: 1.6328 - accuracy: 0.4113 - val_loss: 1.5874 - val_accuracy: 0.4269\n",
            "Epoch 8/100\n",
            "391/391 [==============================] - 16s 40ms/step - loss: 1.6275 - accuracy: 0.4120 - val_loss: 1.5491 - val_accuracy: 0.4493\n",
            "Epoch 9/100\n",
            "391/391 [==============================] - 17s 43ms/step - loss: 1.6021 - accuracy: 0.4246 - val_loss: 1.5458 - val_accuracy: 0.4562\n",
            "Epoch 10/100\n",
            "391/391 [==============================] - 17s 44ms/step - loss: 1.5943 - accuracy: 0.4249 - val_loss: 1.5285 - val_accuracy: 0.4588\n",
            "Epoch 11/100\n",
            "391/391 [==============================] - 16s 40ms/step - loss: 1.5777 - accuracy: 0.4318 - val_loss: 1.5575 - val_accuracy: 0.4477\n",
            "Epoch 12/100\n",
            "391/391 [==============================] - 16s 42ms/step - loss: 1.5743 - accuracy: 0.4343 - val_loss: 1.5052 - val_accuracy: 0.4647\n",
            "Epoch 13/100\n",
            "391/391 [==============================] - 16s 40ms/step - loss: 1.5698 - accuracy: 0.4392 - val_loss: 1.4956 - val_accuracy: 0.4717\n",
            "Epoch 14/100\n",
            "391/391 [==============================] - 19s 48ms/step - loss: 1.5609 - accuracy: 0.4371 - val_loss: 1.5008 - val_accuracy: 0.4666\n",
            "Epoch 15/100\n",
            "391/391 [==============================] - 16s 42ms/step - loss: 1.5490 - accuracy: 0.4431 - val_loss: 1.4858 - val_accuracy: 0.4739\n",
            "Epoch 16/100\n",
            "391/391 [==============================] - 18s 45ms/step - loss: 1.5382 - accuracy: 0.4478 - val_loss: 1.4723 - val_accuracy: 0.4807\n",
            "Epoch 17/100\n",
            "391/391 [==============================] - 18s 47ms/step - loss: 1.5350 - accuracy: 0.4463 - val_loss: 1.4752 - val_accuracy: 0.4779\n",
            "Epoch 18/100\n",
            "391/391 [==============================] - 17s 44ms/step - loss: 1.5359 - accuracy: 0.4488 - val_loss: 1.4874 - val_accuracy: 0.4839\n",
            "Epoch 19/100\n",
            "391/391 [==============================] - 17s 43ms/step - loss: 1.5264 - accuracy: 0.4513 - val_loss: 1.5037 - val_accuracy: 0.4643\n",
            "Epoch 20/100\n",
            "391/391 [==============================] - 18s 46ms/step - loss: 1.5170 - accuracy: 0.4567 - val_loss: 1.4836 - val_accuracy: 0.4724\n",
            "Epoch 21/100\n",
            "391/391 [==============================] - 17s 44ms/step - loss: 1.5172 - accuracy: 0.4544 - val_loss: 1.4742 - val_accuracy: 0.4771\n",
            "Epoch 22/100\n",
            "391/391 [==============================] - 17s 45ms/step - loss: 1.5044 - accuracy: 0.4612 - val_loss: 1.4561 - val_accuracy: 0.4847\n",
            "Epoch 23/100\n",
            "391/391 [==============================] - 18s 45ms/step - loss: 1.5028 - accuracy: 0.4579 - val_loss: 1.4650 - val_accuracy: 0.4874\n",
            "Epoch 24/100\n",
            "391/391 [==============================] - 18s 45ms/step - loss: 1.5069 - accuracy: 0.4592 - val_loss: 1.4612 - val_accuracy: 0.4860\n",
            "Epoch 25/100\n",
            "391/391 [==============================] - 17s 44ms/step - loss: 1.4975 - accuracy: 0.4661 - val_loss: 1.4542 - val_accuracy: 0.4871\n",
            "Epoch 26/100\n",
            "391/391 [==============================] - 17s 44ms/step - loss: 1.4953 - accuracy: 0.4621 - val_loss: 1.4577 - val_accuracy: 0.4842\n",
            "Epoch 27/100\n",
            "391/391 [==============================] - 17s 43ms/step - loss: 1.4826 - accuracy: 0.4665 - val_loss: 1.4543 - val_accuracy: 0.4858\n",
            "Epoch 28/100\n",
            "391/391 [==============================] - 17s 43ms/step - loss: 1.4848 - accuracy: 0.4676 - val_loss: 1.4639 - val_accuracy: 0.4859\n",
            "Epoch 29/100\n",
            "391/391 [==============================] - 18s 45ms/step - loss: 1.4800 - accuracy: 0.4686 - val_loss: 1.4360 - val_accuracy: 0.4909\n",
            "Epoch 30/100\n",
            "391/391 [==============================] - 18s 45ms/step - loss: 1.4811 - accuracy: 0.4669 - val_loss: 1.4511 - val_accuracy: 0.4867\n",
            "Epoch 31/100\n",
            "391/391 [==============================] - 17s 43ms/step - loss: 1.4769 - accuracy: 0.4691 - val_loss: 1.4512 - val_accuracy: 0.4860\n",
            "Epoch 32/100\n",
            "391/391 [==============================] - 18s 47ms/step - loss: 1.4648 - accuracy: 0.4738 - val_loss: 1.4496 - val_accuracy: 0.4905\n",
            "Epoch 33/100\n",
            "391/391 [==============================] - 15s 39ms/step - loss: 1.4691 - accuracy: 0.4715 - val_loss: 1.4493 - val_accuracy: 0.4944\n",
            "Epoch 34/100\n",
            "391/391 [==============================] - 16s 42ms/step - loss: 1.4587 - accuracy: 0.4746 - val_loss: 1.4550 - val_accuracy: 0.4858\n",
            "Epoch 35/100\n",
            "391/391 [==============================] - 17s 44ms/step - loss: 1.4729 - accuracy: 0.4694 - val_loss: 1.4484 - val_accuracy: 0.4839\n",
            "Epoch 36/100\n",
            "391/391 [==============================] - 16s 40ms/step - loss: 1.4621 - accuracy: 0.4741 - val_loss: 1.4183 - val_accuracy: 0.5002\n",
            "Epoch 37/100\n",
            "391/391 [==============================] - 16s 41ms/step - loss: 1.4543 - accuracy: 0.4776 - val_loss: 1.4560 - val_accuracy: 0.4875\n",
            "Epoch 38/100\n",
            "391/391 [==============================] - 16s 42ms/step - loss: 1.4548 - accuracy: 0.4758 - val_loss: 1.4297 - val_accuracy: 0.4969\n",
            "Epoch 39/100\n",
            "391/391 [==============================] - 17s 44ms/step - loss: 1.4433 - accuracy: 0.4809 - val_loss: 1.4386 - val_accuracy: 0.4916\n",
            "Epoch 40/100\n",
            "391/391 [==============================] - 16s 42ms/step - loss: 1.4524 - accuracy: 0.4770 - val_loss: 1.4341 - val_accuracy: 0.4871\n",
            "Epoch 41/100\n",
            "391/391 [==============================] - 15s 39ms/step - loss: 1.4447 - accuracy: 0.4812 - val_loss: 1.4446 - val_accuracy: 0.4820\n",
            "Epoch 42/100\n",
            "391/391 [==============================] - 15s 39ms/step - loss: 1.4463 - accuracy: 0.4822 - val_loss: 1.4423 - val_accuracy: 0.4893\n",
            "Epoch 43/100\n",
            "391/391 [==============================] - 17s 44ms/step - loss: 1.4384 - accuracy: 0.4814 - val_loss: 1.4485 - val_accuracy: 0.4880\n",
            "Epoch 44/100\n",
            "391/391 [==============================] - 16s 41ms/step - loss: 1.4406 - accuracy: 0.4843 - val_loss: 1.4355 - val_accuracy: 0.4972\n",
            "Epoch 45/100\n",
            "391/391 [==============================] - 17s 42ms/step - loss: 1.4452 - accuracy: 0.4825 - val_loss: 1.4484 - val_accuracy: 0.4824\n",
            "Epoch 46/100\n",
            "391/391 [==============================] - 16s 41ms/step - loss: 1.4294 - accuracy: 0.4838 - val_loss: 1.4185 - val_accuracy: 0.4904\n",
            "Epoch 47/100\n",
            "391/391 [==============================] - 18s 45ms/step - loss: 1.4327 - accuracy: 0.4826 - val_loss: 1.4465 - val_accuracy: 0.4922\n",
            "Epoch 48/100\n",
            "391/391 [==============================] - 16s 41ms/step - loss: 1.4314 - accuracy: 0.4847 - val_loss: 1.4215 - val_accuracy: 0.4984\n",
            "Epoch 49/100\n",
            "391/391 [==============================] - 16s 40ms/step - loss: 1.4273 - accuracy: 0.4873 - val_loss: 1.4256 - val_accuracy: 0.4905\n",
            "Epoch 50/100\n",
            "391/391 [==============================] - 19s 49ms/step - loss: 1.4296 - accuracy: 0.4861 - val_loss: 1.4368 - val_accuracy: 0.4994\n",
            "Epoch 51/100\n",
            "391/391 [==============================] - 15s 40ms/step - loss: 1.4241 - accuracy: 0.4894 - val_loss: 1.4459 - val_accuracy: 0.4840\n",
            "Epoch 52/100\n",
            "391/391 [==============================] - 17s 43ms/step - loss: 1.4281 - accuracy: 0.4876 - val_loss: 1.4289 - val_accuracy: 0.4980\n",
            "Epoch 53/100\n",
            "391/391 [==============================] - 17s 44ms/step - loss: 1.4198 - accuracy: 0.4910 - val_loss: 1.4192 - val_accuracy: 0.4984\n",
            "Epoch 54/100\n",
            "391/391 [==============================] - 18s 45ms/step - loss: 1.4219 - accuracy: 0.4898 - val_loss: 1.4418 - val_accuracy: 0.4964\n",
            "Epoch 55/100\n",
            "391/391 [==============================] - 16s 42ms/step - loss: 1.4172 - accuracy: 0.4916 - val_loss: 1.4421 - val_accuracy: 0.4867\n",
            "Epoch 56/100\n",
            "391/391 [==============================] - 16s 42ms/step - loss: 1.4164 - accuracy: 0.4921 - val_loss: 1.4304 - val_accuracy: 0.4946\n",
            "Epoch 57/100\n",
            "391/391 [==============================] - 17s 44ms/step - loss: 1.4225 - accuracy: 0.4893 - val_loss: 1.4383 - val_accuracy: 0.4971\n",
            "Epoch 58/100\n",
            "391/391 [==============================] - 16s 42ms/step - loss: 1.4086 - accuracy: 0.4939 - val_loss: 1.4238 - val_accuracy: 0.4919\n",
            "Epoch 59/100\n",
            "391/391 [==============================] - 17s 43ms/step - loss: 1.4134 - accuracy: 0.4897 - val_loss: 1.4271 - val_accuracy: 0.4920\n",
            "Epoch 60/100\n",
            "391/391 [==============================] - 18s 47ms/step - loss: 1.4155 - accuracy: 0.4937 - val_loss: 1.4598 - val_accuracy: 0.4820\n",
            "Epoch 61/100\n",
            "391/391 [==============================] - 16s 41ms/step - loss: 1.4016 - accuracy: 0.4947 - val_loss: 1.4267 - val_accuracy: 0.4985\n",
            "Epoch 62/100\n",
            "391/391 [==============================] - 17s 45ms/step - loss: 1.4076 - accuracy: 0.4940 - val_loss: 1.4051 - val_accuracy: 0.5033\n",
            "Epoch 63/100\n",
            "391/391 [==============================] - 18s 46ms/step - loss: 1.4100 - accuracy: 0.4965 - val_loss: 1.4449 - val_accuracy: 0.4908\n",
            "Epoch 64/100\n",
            "391/391 [==============================] - 16s 41ms/step - loss: 1.4093 - accuracy: 0.4930 - val_loss: 1.4285 - val_accuracy: 0.4972\n",
            "Epoch 65/100\n",
            "391/391 [==============================] - 16s 41ms/step - loss: 1.4019 - accuracy: 0.4948 - val_loss: 1.4252 - val_accuracy: 0.4979\n",
            "Epoch 66/100\n",
            "391/391 [==============================] - 16s 41ms/step - loss: 1.4068 - accuracy: 0.4935 - val_loss: 1.4140 - val_accuracy: 0.4973\n",
            "Epoch 67/100\n",
            "391/391 [==============================] - 18s 45ms/step - loss: 1.4006 - accuracy: 0.4979 - val_loss: 1.4118 - val_accuracy: 0.4958\n",
            "Epoch 68/100\n",
            "391/391 [==============================] - 16s 41ms/step - loss: 1.3979 - accuracy: 0.4950 - val_loss: 1.4174 - val_accuracy: 0.4994\n",
            "Epoch 69/100\n",
            "391/391 [==============================] - 15s 39ms/step - loss: 1.3980 - accuracy: 0.4989 - val_loss: 1.4164 - val_accuracy: 0.4996\n",
            "Epoch 70/100\n",
            "391/391 [==============================] - 16s 41ms/step - loss: 1.3877 - accuracy: 0.4997 - val_loss: 1.4341 - val_accuracy: 0.4977\n",
            "Epoch 71/100\n",
            "391/391 [==============================] - 17s 44ms/step - loss: 1.3888 - accuracy: 0.5005 - val_loss: 1.4266 - val_accuracy: 0.4937\n",
            "Epoch 72/100\n",
            "391/391 [==============================] - 16s 42ms/step - loss: 1.3906 - accuracy: 0.5005 - val_loss: 1.4286 - val_accuracy: 0.4932\n",
            "Epoch 73/100\n",
            "391/391 [==============================] - 16s 41ms/step - loss: 1.3897 - accuracy: 0.5024 - val_loss: 1.4118 - val_accuracy: 0.5020\n",
            "Epoch 74/100\n",
            "391/391 [==============================] - 16s 42ms/step - loss: 1.3870 - accuracy: 0.5019 - val_loss: 1.4209 - val_accuracy: 0.4955\n",
            "Epoch 75/100\n",
            "391/391 [==============================] - 18s 45ms/step - loss: 1.3851 - accuracy: 0.5026 - val_loss: 1.4169 - val_accuracy: 0.4906\n",
            "Epoch 76/100\n",
            "391/391 [==============================] - 16s 41ms/step - loss: 1.3790 - accuracy: 0.5034 - val_loss: 1.4252 - val_accuracy: 0.4977\n",
            "Epoch 77/100\n",
            "391/391 [==============================] - 16s 40ms/step - loss: 1.3797 - accuracy: 0.5048 - val_loss: 1.3993 - val_accuracy: 0.5044\n",
            "Epoch 78/100\n",
            "391/391 [==============================] - 16s 41ms/step - loss: 1.3876 - accuracy: 0.5045 - val_loss: 1.4100 - val_accuracy: 0.5006\n",
            "Epoch 79/100\n",
            "391/391 [==============================] - 17s 43ms/step - loss: 1.3842 - accuracy: 0.5032 - val_loss: 1.4329 - val_accuracy: 0.4913\n",
            "Epoch 80/100\n",
            "391/391 [==============================] - 17s 45ms/step - loss: 1.3784 - accuracy: 0.5027 - val_loss: 1.4210 - val_accuracy: 0.5015\n",
            "Epoch 81/100\n",
            "391/391 [==============================] - 15s 39ms/step - loss: 1.3795 - accuracy: 0.5046 - val_loss: 1.4248 - val_accuracy: 0.4932\n",
            "Epoch 82/100\n",
            "391/391 [==============================] - 16s 40ms/step - loss: 1.3798 - accuracy: 0.5056 - val_loss: 1.4079 - val_accuracy: 0.5049\n",
            "Epoch 83/100\n",
            "391/391 [==============================] - 17s 43ms/step - loss: 1.3796 - accuracy: 0.5041 - val_loss: 1.4263 - val_accuracy: 0.4967\n",
            "Epoch 84/100\n",
            "391/391 [==============================] - 18s 46ms/step - loss: 1.3812 - accuracy: 0.5034 - val_loss: 1.4225 - val_accuracy: 0.4951\n",
            "Epoch 85/100\n",
            "391/391 [==============================] - 17s 43ms/step - loss: 1.3760 - accuracy: 0.5091 - val_loss: 1.4127 - val_accuracy: 0.4955\n",
            "Epoch 86/100\n",
            "391/391 [==============================] - 17s 45ms/step - loss: 1.3739 - accuracy: 0.5074 - val_loss: 1.4165 - val_accuracy: 0.5020\n",
            "Epoch 87/100\n",
            "391/391 [==============================] - 17s 43ms/step - loss: 1.3734 - accuracy: 0.5086 - val_loss: 1.4166 - val_accuracy: 0.4996\n",
            "Epoch 88/100\n",
            "391/391 [==============================] - 16s 41ms/step - loss: 1.3669 - accuracy: 0.5101 - val_loss: 1.4139 - val_accuracy: 0.4967\n",
            "Epoch 89/100\n",
            "391/391 [==============================] - 18s 45ms/step - loss: 1.3799 - accuracy: 0.5061 - val_loss: 1.4186 - val_accuracy: 0.4964\n",
            "Epoch 90/100\n",
            "391/391 [==============================] - 17s 43ms/step - loss: 1.3737 - accuracy: 0.5072 - val_loss: 1.4222 - val_accuracy: 0.4940\n",
            "Epoch 91/100\n",
            "391/391 [==============================] - 16s 40ms/step - loss: 1.3638 - accuracy: 0.5111 - val_loss: 1.4167 - val_accuracy: 0.4961\n",
            "Epoch 92/100\n",
            "391/391 [==============================] - 16s 41ms/step - loss: 1.3671 - accuracy: 0.5091 - val_loss: 1.4065 - val_accuracy: 0.5035\n",
            "Epoch 93/100\n",
            "391/391 [==============================] - 18s 46ms/step - loss: 1.3669 - accuracy: 0.5111 - val_loss: 1.4244 - val_accuracy: 0.4962\n",
            "Epoch 94/100\n",
            "391/391 [==============================] - 15s 39ms/step - loss: 1.3734 - accuracy: 0.5075 - val_loss: 1.4085 - val_accuracy: 0.5047\n",
            "Epoch 95/100\n",
            "391/391 [==============================] - 15s 38ms/step - loss: 1.3683 - accuracy: 0.5080 - val_loss: 1.4217 - val_accuracy: 0.4952\n",
            "Epoch 96/100\n",
            "391/391 [==============================] - 15s 39ms/step - loss: 1.3669 - accuracy: 0.5087 - val_loss: 1.4069 - val_accuracy: 0.4989\n",
            "Epoch 97/100\n",
            "391/391 [==============================] - 16s 42ms/step - loss: 1.3649 - accuracy: 0.5079 - val_loss: 1.4072 - val_accuracy: 0.5001\n",
            "Epoch 98/100\n",
            "391/391 [==============================] - 16s 40ms/step - loss: 1.3648 - accuracy: 0.5096 - val_loss: 1.4037 - val_accuracy: 0.5017\n",
            "Epoch 99/100\n",
            "391/391 [==============================] - 16s 41ms/step - loss: 1.3654 - accuracy: 0.5066 - val_loss: 1.3985 - val_accuracy: 0.5023\n",
            "Epoch 100/100\n",
            "391/391 [==============================] - 16s 42ms/step - loss: 1.3579 - accuracy: 0.5096 - val_loss: 1.4187 - val_accuracy: 0.5049\n"
          ]
        }
      ]
    },
    {
      "cell_type": "code",
      "source": [
        "test_loss, test_acc = model.evaluate(x_test,y_test)"
      ],
      "metadata": {
        "id": "TmLf5XSy1L9N",
        "colab": {
          "base_uri": "https://localhost:8080/"
        },
        "outputId": "0e966d18-bf87-4e37-f518-350267fa2c77"
      },
      "execution_count": null,
      "outputs": [
        {
          "output_type": "stream",
          "name": "stdout",
          "text": [
            "313/313 [==============================] - 2s 6ms/step - loss: 1.4187 - accuracy: 0.5049\n"
          ]
        }
      ]
    },
    {
      "cell_type": "code",
      "source": [
        "print('Test_loss',test_loss)\n",
        "print('Test_accuracy', test_acc)"
      ],
      "metadata": {
        "id": "zEEq43o61XLE",
        "colab": {
          "base_uri": "https://localhost:8080/"
        },
        "outputId": "75a176d2-8884-469b-df92-4af91708b0e1"
      },
      "execution_count": null,
      "outputs": [
        {
          "metadata": {
            "tags": null
          },
          "name": "stdout",
          "output_type": "stream",
          "text": [
            "Test_loss 1.418736457824707\n",
            "Test_accuracy 0.5048999786376953\n"
          ]
        }
      ]
    },
    {
      "cell_type": "code",
      "source": [
        "import matplotlib.pyplot as plt\n",
        "plt.plot(history.history['accuracy'])\n",
        "plt.plot(history.history['val_accuracy'])\n",
        "plt.title('model accuracy')\n",
        "plt.ylabel('loss')\n",
        "plt.xlabel('epoch')\n",
        "plt.legend(['train', 'validation'], loc='upper left')\n",
        "plt.show()"
      ],
      "metadata": {
        "id": "-qm0aoeq1tHB",
        "colab": {
          "base_uri": "https://localhost:8080/",
          "height": 472
        },
        "outputId": "930fef35-0264-43c4-9ace-c56eebf79f85"
      },
      "execution_count": null,
      "outputs": [
        {
          "output_type": "display_data",
          "data": {
            "text/plain": [
              "<Figure size 640x480 with 1 Axes>"
            ],
            "image/png": "[encoded data removed]"
          },
          "metadata": {}
        }
      ]
    },
    {
      "cell_type": "code",
      "source": [],
      "metadata": {
        "id": "z2HtY7Yw3kM4"
      },
      "execution_count": null,
      "outputs": []
    }
  ]
}